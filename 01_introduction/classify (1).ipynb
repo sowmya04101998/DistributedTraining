{
  "nbformat": 4,
  "nbformat_minor": 0,
  "metadata": {
    "colab": {
      "provenance": []
    },
    "kernelspec": {
      "name": "python3",
      "display_name": "Python 3"
    },
    "language_info": {
      "name": "python"
    }
  },
  "cells": [
    {
      "cell_type": "markdown",
      "source": [
        "# ***Logistic Regression***\n",
        "# To classify whether an object in space is a star or a planet.  dataset with features (like brightness, radius, distance, mass, temperature, etc.) and a binary target column (0 = planet, 1 = star)."
      ],
      "metadata": {
        "id": "XA1Mi_Gu7F-n"
      }
    },
    {
      "cell_type": "code",
      "source": [
        "import pandas as pd\n",
        "import numpy as np\n",
        "\n",
        "np.random.seed(42)\n",
        "n_samples = 500_000  # 250k planets + 250k stars\n",
        "\n",
        "# --------------------------\n",
        "# Planets (label=0)\n",
        "# --------------------------\n",
        "planet_brightness = np.random.normal(3.0, 2.0, n_samples//2)\n",
        "planet_radius = np.random.normal(3.0, 1.5, n_samples//2)\n",
        "planet_mass = np.random.normal(5.0, 3.0, n_samples//2)\n",
        "planet_temp = np.random.normal(3000, 1500, n_samples//2)\n",
        "planet_labels = np.zeros(n_samples//2)\n",
        "\n",
        "# --------------------------\n",
        "# Stars (label=1)\n",
        "# --------------------------\n",
        "star_brightness = np.random.normal(6.0, 2.5, n_samples//2)\n",
        "star_radius = np.random.normal(7.0, 2.0, n_samples//2)\n",
        "star_mass = np.random.normal(15.0, 6.0, n_samples//2)\n",
        "star_temp = np.random.normal(6000, 2000, n_samples//2)\n",
        "star_labels = np.ones(n_samples//2)\n",
        "\n",
        "# --------------------------\n",
        "# Combine\n",
        "# --------------------------\n",
        "brightness = np.concatenate([planet_brightness, star_brightness])\n",
        "radius = np.concatenate([planet_radius, star_radius])\n",
        "mass = np.concatenate([planet_mass, star_mass])\n",
        "temperature = np.concatenate([planet_temp, star_temp])\n",
        "labels = np.concatenate([planet_labels, star_labels])\n",
        "\n",
        "# --------------------------\n",
        "# Date of Observation\n",
        "# --------------------------\n",
        "# Random dates over 10 years\n",
        "start_date = np.datetime64('2015-01-01')\n",
        "end_date = np.datetime64('2025-01-01')\n",
        "date_of_obs = start_date + (end_date - start_date) * np.random.rand(n_samples)\n",
        "\n",
        "# --------------------------\n",
        "# Distance from Earth in light-years\n",
        "# --------------------------\n",
        "# Planets closer, stars farther on average\n",
        "distance_planets = np.random.uniform(0.1, 50, n_samples//2)  # planets: 0.1–50 ly\n",
        "distance_stars = np.random.uniform(10, 5000, n_samples//2)   # stars: 10–5000 ly\n",
        "distance = np.concatenate([distance_planets, distance_stars])\n",
        "\n",
        "# --------------------------\n",
        "# Create DataFrame\n",
        "# --------------------------\n",
        "data = pd.DataFrame({\n",
        "    \"brightness\": brightness,\n",
        "    \"radius\": radius,\n",
        "    \"mass\": mass,\n",
        "    \"temperature\": temperature,\n",
        "    \"date_of_observation\": date_of_obs,\n",
        "    \"distance_from_earth\": distance,\n",
        "    \"label\": labels.astype(int)\n",
        "})\n",
        "\n",
        "# Shuffle dataset\n",
        "data = data.sample(frac=1, random_state=42).reset_index(drop=True)\n",
        "\n",
        "# Save CSV\n",
        "data.to_csv(\"space_objects.csv\", index=False)\n",
        "\n",
        "print(\"✅ Generated space_objects.csv \")\n",
        "\n"
      ],
      "metadata": {
        "colab": {
          "base_uri": "https://localhost:8080/"
        },
        "id": "dGMfsXlr704C",
        "outputId": "30738b7a-c0f8-4efb-95b1-5eb04bcda337"
      },
      "execution_count": null,
      "outputs": [
        {
          "output_type": "stream",
          "name": "stdout",
          "text": [
            "✅ Generated space_objects.csv \n"
          ]
        }
      ]
    },
    {
      "cell_type": "code",
      "source": [
        "import pandas as pd\n",
        "\n",
        "# Load the dataset\n",
        "data = pd.read_csv(\"space_objects.csv\")\n",
        "\n",
        "# Print first 10 rows\n",
        "print(data.head(10))"
      ],
      "metadata": {
        "colab": {
          "base_uri": "https://localhost:8080/"
        },
        "id": "H7XxpLDi_qpq",
        "outputId": "ab06be14-64ca-40f2-9af7-74a0bf1b2db9"
      },
      "execution_count": null,
      "outputs": [
        {
          "output_type": "stream",
          "name": "stdout",
          "text": [
            "   brightness    radius       mass   temperature date_of_observation  \\\n",
            "0    5.117922  6.140672   5.608289   3955.936332          2019-07-31   \n",
            "1    5.726507  3.941012   6.455729   2398.436778          2019-09-23   \n",
            "2    3.371354  2.916086   8.450476   4501.784354          2022-09-27   \n",
            "3    4.067357  2.575323   4.666242   4681.506028          2017-09-21   \n",
            "4    6.344610  9.735034  15.597008  10462.867988          2020-06-07   \n",
            "5    2.996124  2.604806  -0.435316   6653.339679          2017-10-09   \n",
            "6    3.338595  1.777956   5.366844   -335.178548          2015-09-15   \n",
            "7    6.906976  6.914443  17.515065   8091.278010          2017-02-07   \n",
            "8    2.142039  1.035154   4.279303   2942.548642          2018-11-27   \n",
            "9    9.120397  7.282966   9.969434   5142.114609          2021-09-26   \n",
            "\n",
            "   distance_from_earth  label  \n",
            "0             6.506415      0  \n",
            "1            29.603397      0  \n",
            "2            48.987714      0  \n",
            "3             6.598742      0  \n",
            "4          1270.449607      1  \n",
            "5            36.254987      0  \n",
            "6            28.054152      0  \n",
            "7          4096.448384      1  \n",
            "8            20.535178      0  \n",
            "9           854.203763      1  \n"
          ]
        }
      ]
    },
    {
      "cell_type": "code",
      "source": [
        "# Logistic Regression Classification of Stars vs Planets using CSV\n",
        "\n",
        "import pandas as pd\n",
        "import numpy as np\n",
        "from sklearn.model_selection import train_test_split\n",
        "from sklearn.preprocessing import StandardScaler\n",
        "from sklearn.linear_model import LogisticRegression\n",
        "from sklearn.metrics import accuracy_score, classification_report, confusion_matrix\n",
        "\n",
        "# -----------------------\n",
        "# Load Dataset from CSV\n",
        "# -----------------------\n",
        "data = pd.read_csv(\"space_objects.csv\")\n",
        "\n",
        "# -----------------------\n",
        "# Prepare Features\n",
        "# -----------------------\n",
        "# Keep only the core physical features for classification\n",
        "feature_cols = [\"brightness\", \"radius\", \"mass\", \"temperature\"]\n",
        "X = data[feature_cols].values\n",
        "y = data[\"label\"].values\n",
        "\n",
        "# -----------------------\n",
        "# Split Train/Test\n",
        "# -----------------------\n",
        "X_train, X_test, y_train, y_test = train_test_split(\n",
        "    X, y, test_size=0.2, random_state=42\n",
        ")\n",
        "\n",
        "# -----------------------\n",
        "# Feature Scaling\n",
        "# -----------------------\n",
        "scaler = StandardScaler()\n",
        "X_train_scaled = scaler.fit_transform(X_train)\n",
        "X_test_scaled = scaler.transform(X_test)\n",
        "\n",
        "# -----------------------\n",
        "# Logistic Regression Model\n",
        "# -----------------------\n",
        "model = LogisticRegression(max_iter=1000, solver=\"liblinear\")\n",
        "model.fit(X_train_scaled, y_train)\n",
        "\n",
        "# -----------------------\n",
        "# Predictions\n",
        "# -----------------------\n",
        "y_pred = model.predict(X_test_scaled)\n",
        "\n",
        "\n",
        "# -----------------------\n",
        "# Test with a new object\n",
        "# -----------------------\n",
        "# Example: brightness=0.8, radius=1.1, mass=0.9, temperature=5600\n",
        "new_object = np.array([[6, 9, 15, 10000]])\n",
        "new_object_scaled = scaler.transform(new_object)\n",
        "prediction = model.predict(new_object_scaled)\n",
        "\n",
        "if prediction[0] == 1:\n",
        "    print(\"The object is classified as a STAR 🌟\")\n",
        "else:\n",
        "    print(\"The object is classified as a PLANET 🪐\")\n",
        "\n"
      ],
      "metadata": {
        "colab": {
          "base_uri": "https://localhost:8080/"
        },
        "id": "Mz5P_68c7Td9",
        "outputId": "1f7194fd-7e8b-472d-eca3-d1bbae434f8c"
      },
      "execution_count": null,
      "outputs": [
        {
          "output_type": "stream",
          "name": "stdout",
          "text": [
            "The object is classified as a STAR 🌟\n"
          ]
        }
      ]
    },
    {
      "cell_type": "code",
      "source": [
        "# -----------------------\n",
        "# Evaluation\n",
        "# -----------------------\n",
        "print(\"Accuracy:\", accuracy_score(y_test, y_pred))\n",
        "print(\"\\nClassification Report:\\n\", classification_report(y_test, y_pred))\n",
        "print(\"\\nConfusion Matrix:\\n\", confusion_matrix(y_test, y_pred))\n"
      ],
      "metadata": {
        "id": "dgOQiltT7dbY",
        "colab": {
          "base_uri": "https://localhost:8080/"
        },
        "outputId": "c0c3a0b9-d634-4859-9842-0e954fdada96"
      },
      "execution_count": null,
      "outputs": [
        {
          "output_type": "stream",
          "name": "stdout",
          "text": [
            "Accuracy: 0.97342\n",
            "\n",
            "Classification Report:\n",
            "               precision    recall  f1-score   support\n",
            "\n",
            "           0       0.97      0.98      0.97     49900\n",
            "           1       0.98      0.97      0.97     50100\n",
            "\n",
            "    accuracy                           0.97    100000\n",
            "   macro avg       0.97      0.97      0.97    100000\n",
            "weighted avg       0.97      0.97      0.97    100000\n",
            "\n",
            "\n",
            "Confusion Matrix:\n",
            " [[48763  1137]\n",
            " [ 1521 48579]]\n"
          ]
        }
      ]
    }
  ]
}